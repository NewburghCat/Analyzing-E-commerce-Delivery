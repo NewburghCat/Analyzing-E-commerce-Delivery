{
  "nbformat": 4,
  "nbformat_minor": 0,
  "metadata": {
    "colab": {
      "name": "Dalmatians _Sales_Readme.ipynb",
      "provenance": [],
      "collapsed_sections": [],
      "authorship_tag": "ABX9TyNAQViYoFow61OOVyUdTtp5",
      "include_colab_link": true
    },
    "kernelspec": {
      "name": "python3",
      "display_name": "Python 3"
    },
    "language_info": {
      "name": "python"
    }
  },
  "cells": [
    {
      "cell_type": "markdown",
      "metadata": {
        "id": "view-in-github",
        "colab_type": "text"
      },
      "source": [
        "<a href=\"https://colab.research.google.com/github/NewburghCat/dalmatians_sales/blob/main/Dalmatians__Sales_Readme.ipynb\" target=\"_parent\"><img src=\"https://colab.research.google.com/assets/colab-badge.svg\" alt=\"Open In Colab\"/></a>"
      ]
    },
    {
      "cell_type": "markdown",
      "source": [
        "# Dalmatians Sales Project"
      ],
      "metadata": {
        "id": "vG2NUQm29ocG"
      }
    },
    {
      "cell_type": "markdown",
      "source": [
        "Badges - Build, Analysis, Downloads, Rating, Platform & Version Support"
      ],
      "metadata": {
        "id": "Oq8UM3Fr9-Pj"
      }
    },
    {
      "cell_type": "markdown",
      "source": [
        "# Table of Content \n"
      ],
      "metadata": {
        "id": "q9pP-rDNARXm"
      }
    },
    {
      "cell_type": "markdown",
      "source": [
        "1. About the Project \n",
        "\n",
        "2. Getting Started \n",
        "    * Installation \n",
        "\n",
        "3. The Details  \n",
        "\n",
        "4. Acknowledgments "
      ],
      "metadata": {
        "id": "8qLk1_UkIC_2"
      }
    },
    {
      "cell_type": "markdown",
      "source": [
        "# Requirements \n",
        "\n",
        "*   Jupiter Notebook or Colab\n",
        "*   Python \n",
        "\n"
      ],
      "metadata": {
        "id": "yXexpBtg_2Pd"
      }
    },
    {
      "cell_type": "markdown",
      "source": [
        "# About the Project "
      ],
      "metadata": {
        "id": "leGtaPyVD1Cj"
      }
    },
    {
      "cell_type": "markdown",
      "source": [
        "The Dalmatian sales project is to anaylsis sales data with a supply chain arena. This is project has been classified as a classification Project. Our goal is to optimise best practices for shipping and recieving goods."
      ],
      "metadata": {
        "id": "Lh6JEjBp9gsk"
      }
    },
    {
      "cell_type": "markdown",
      "source": [
        "**Data Set** \n",
        "\n",
        "**E-Commerce Shipping Data**\n",
        "\n",
        "Product Shipment Delivered on time or not? To Meet E-Commerce Customer Demand\n",
        "\n",
        "  An international e-commerce company based wants to discover key insights from their customer database. They want to use some of the most advanced machine learning techniques to study their customers. The company sells electronic products."
      ],
      "metadata": {
        "id": "J50rwugOITEl"
      }
    },
    {
      "cell_type": "markdown",
      "source": [
        "\n",
        "\n",
        "---\n",
        "\n",
        "Data Library \n",
        "\n",
        "---\n",
        "\n",
        "1. ID: ID Number of Customers.\n",
        "\n",
        "2. Warehouse block: The Company have big Warehouse which is divided in to block such as A,B,C,D,E.\n",
        "\n",
        "3. Mode of shipment:The Company Ships the products in multiple way such as Ship, Flight and Road.\n",
        "\n",
        "4. Customer care calls: The number of calls made from enquiry for enquiry of the shipment.\n",
        "\n",
        "5. Customer rating: The company has rated from every customer. 1 is the lowest (Worst), 5 is the highest (Best).\n",
        "\n",
        "6. Cost of the product: Cost of the Product in US Dollars.\n",
        "\n",
        "7. Prior purchases: The Number of Prior Purchase.\n",
        "\n",
        "8. Product importance: The company has categorized the product in the various parameter such as low, medium, high.\n",
        "\n",
        "9. Gender: Male and Female.\n",
        "\n",
        "10. Discount offered: Discount offered on that specific product.\n",
        "Weight in gms: It is the weight in grams.\n",
        "\n",
        "11. Reached on time: It is the target variable, where 1 Indicates that the product has NOT reached on time and 0 indicates it has reached on time.\n",
        "\n",
        "\n"
      ],
      "metadata": {
        "id": "WV1obNAMJMTH"
      }
    },
    {
      "cell_type": "markdown",
      "source": [
        "# Getting Started "
      ],
      "metadata": {
        "id": "6SwZ_GqXEDQb"
      }
    },
    {
      "cell_type": "markdown",
      "source": [
        "**Installation** "
      ],
      "metadata": {
        "id": "y_d2imQhLQf2"
      }
    },
    {
      "cell_type": "code",
      "source": [
        "# Prerequisites libraries \n",
        " import pandas as pd \n",
        " import numpy as np \n",
        "\n",
        "# Prerequisites libraries for Visualization \n",
        " import matplotlib.pyplot as plt\n",
        " import seaborn as sns\n",
        "\n",
        "# Prerequisites libraries for Processing and Scaling data\n",
        " from sklearn.model_selection import train_test_split\n",
        " from sklearn.preprocessing import OneHotEncoder, StandardScaler\n",
        " from sklearn.compose import make_column_selector, make_column_transformer\n",
        " from sklearn.tree import DecisionTeeClassifier \n",
        " from sklearn.pipeline import make_pipeline\n",
        " from sklearn.linaer_model import LinearRegression \n",
        " from sklearn.feature_selection import RFE\n",
        " from sklearn.linear_model import RidgeCV, LassoCV, Ridge, Lasso\n"
      ],
      "metadata": {
        "id": "C_A2UXO1EPVf"
      },
      "execution_count": null,
      "outputs": []
    },
    {
      "cell_type": "markdown",
      "source": [
        "# The Details "
      ],
      "metadata": {
        "id": "kvI-RLM_Hs-q"
      }
    },
    {
      "cell_type": "markdown",
      "source": [
        "# Acknowledgments"
      ],
      "metadata": {
        "id": "IqOkn_inH4W7"
      }
    },
    {
      "cell_type": "markdown",
      "source": [
        "*Data Set *\n",
        "\n",
        "https://www.kaggle.com/datasets/prachi13/customer-analytics\n",
        "\n"
      ],
      "metadata": {
        "id": "nM0GvrJFKog3"
      }
    }
  ]
}