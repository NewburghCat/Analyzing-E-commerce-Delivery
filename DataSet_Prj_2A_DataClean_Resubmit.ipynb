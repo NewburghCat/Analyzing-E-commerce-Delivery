{
  "nbformat": 4,
  "nbformat_minor": 0,
  "metadata": {
    "colab": {
      "name": "DataSet_Prj_2A.ipynb",
      "provenance": [],
      "collapsed_sections": [],
      "authorship_tag": "ABX9TyNBytxDt8LW6ywPBh2DP5aA",
      "include_colab_link": true
    },
    "kernelspec": {
      "name": "python3",
      "display_name": "Python 3"
    },
    "language_info": {
      "name": "python"
    }
  },
  "cells": [
    {
      "cell_type": "markdown",
      "metadata": {
        "id": "view-in-github",
        "colab_type": "text"
      },
      "source": [
        "<a href=\"https://colab.research.google.com/github/NewburghCat/dalmatians_sales/blob/main/DataSet_Prj_2A_DataClean_Resubmit.ipynb\" target=\"_parent\"><img src=\"https://colab.research.google.com/assets/colab-badge.svg\" alt=\"Open In Colab\"/></a>"
      ]
    },
    {
      "cell_type": "markdown",
      "source": [
        "JodyAnn Bradford\n",
        "\n",
        "Project 2: E-Commerce DataSet \n",
        "\n",
        "August 14th 2022.\n"
      ],
      "metadata": {
        "id": "DwYiQxqYLN-J"
      }
    },
    {
      "cell_type": "code",
      "execution_count": 105,
      "metadata": {
        "id": "pw-yDIYH9a3p"
      },
      "outputs": [],
      "source": [
        "# Project_2 : Data Set - E-Commerce Data "
      ]
    },
    {
      "cell_type": "markdown",
      "source": [
        "This Data was chosen to facilitate an anaylsis which predicts a revelant product type according to the region and shipping. \n",
        "\n",
        "Description: \n",
        "\n",
        "An international e-commerce company based customer insight data. This company sells electronic products. \n",
        "\n",
        "Classification \n",
        "\n",
        "The target vector is Reached.on.Time_Y.N as either Yes (1) or No (2).  "
      ],
      "metadata": {
        "id": "XfoFbF8r-xnp"
      }
    },
    {
      "cell_type": "code",
      "source": [
        "import pandas as pd\n",
        "import numpy as np\n",
        "import matplotlib.pyplot as plt\n",
        "import seaborn as sns\n",
        "from sklearn.model_selection import train_test_split\n",
        "from sklearn.compose import make_column_selector,make_column_transformer\n",
        "from sklearn.preprocessing import OneHotEncoder, StandardScaler\n",
        "from sklearn.tree import DecisionTreeClassifier\n"
      ],
      "metadata": {
        "id": "wX4IZMUdD3PO"
      },
      "execution_count": 106,
      "outputs": []
    },
    {
      "cell_type": "code",
      "source": [
        "from google.colab import drive\n",
        "drive.mount('/content/drive')"
      ],
      "metadata": {
        "colab": {
          "base_uri": "https://localhost:8080/"
        },
        "id": "QnFqlyFcPm7r",
        "outputId": "60c75d3d-6e79-4705-ff68-7e816f0e9d4c"
      },
      "execution_count": 107,
      "outputs": [
        {
          "output_type": "stream",
          "name": "stdout",
          "text": [
            "Drive already mounted at /content/drive; to attempt to forcibly remount, call drive.mount(\"/content/drive\", force_remount=True).\n"
          ]
        }
      ]
    },
    {
      "cell_type": "code",
      "source": [
        "# load data \n",
        "\n",
        "file = '/content/drive/MyDrive/Colab Notebooks/Data Science - Machine Learning/WK 3/PROJECT2/Train_E-CommerceShippingData.csv'\n",
        "df = pd.read_csv(file)\n",
        "df.head()"
      ],
      "metadata": {
        "colab": {
          "base_uri": "https://localhost:8080/",
          "height": 270
        },
        "id": "w6nHBi4MDaVy",
        "outputId": "1d75e2ed-2218-4f2d-b499-e060d1fa05b5"
      },
      "execution_count": 108,
      "outputs": [
        {
          "output_type": "execute_result",
          "data": {
            "text/plain": [
              "   ID Warehouse_block Mode_of_Shipment  Customer_care_calls  Customer_rating  \\\n",
              "0   1               D           Flight                    4                2   \n",
              "1   2               F           Flight                    4                5   \n",
              "2   3               A           Flight                    2                2   \n",
              "3   4               B           Flight                    3                3   \n",
              "4   5               C           Flight                    2                2   \n",
              "\n",
              "   Cost_of_the_Product  Prior_purchases Product_importance Gender  \\\n",
              "0                  177                3                low      F   \n",
              "1                  216                2                low      M   \n",
              "2                  183                4                low      M   \n",
              "3                  176                4             medium      M   \n",
              "4                  184                3             medium      F   \n",
              "\n",
              "   Discount_offered  Weight_in_gms  Reached.on.Time_Y.N  \n",
              "0                44           1233                    1  \n",
              "1                59           3088                    1  \n",
              "2                48           3374                    1  \n",
              "3                10           1177                    1  \n",
              "4                46           2484                    1  "
            ],
            "text/html": [
              "\n",
              "  <div id=\"df-32f3a0cb-85a4-4fec-8954-f7a6e7ebe2fc\">\n",
              "    <div class=\"colab-df-container\">\n",
              "      <div>\n",
              "<style scoped>\n",
              "    .dataframe tbody tr th:only-of-type {\n",
              "        vertical-align: middle;\n",
              "    }\n",
              "\n",
              "    .dataframe tbody tr th {\n",
              "        vertical-align: top;\n",
              "    }\n",
              "\n",
              "    .dataframe thead th {\n",
              "        text-align: right;\n",
              "    }\n",
              "</style>\n",
              "<table border=\"1\" class=\"dataframe\">\n",
              "  <thead>\n",
              "    <tr style=\"text-align: right;\">\n",
              "      <th></th>\n",
              "      <th>ID</th>\n",
              "      <th>Warehouse_block</th>\n",
              "      <th>Mode_of_Shipment</th>\n",
              "      <th>Customer_care_calls</th>\n",
              "      <th>Customer_rating</th>\n",
              "      <th>Cost_of_the_Product</th>\n",
              "      <th>Prior_purchases</th>\n",
              "      <th>Product_importance</th>\n",
              "      <th>Gender</th>\n",
              "      <th>Discount_offered</th>\n",
              "      <th>Weight_in_gms</th>\n",
              "      <th>Reached.on.Time_Y.N</th>\n",
              "    </tr>\n",
              "  </thead>\n",
              "  <tbody>\n",
              "    <tr>\n",
              "      <th>0</th>\n",
              "      <td>1</td>\n",
              "      <td>D</td>\n",
              "      <td>Flight</td>\n",
              "      <td>4</td>\n",
              "      <td>2</td>\n",
              "      <td>177</td>\n",
              "      <td>3</td>\n",
              "      <td>low</td>\n",
              "      <td>F</td>\n",
              "      <td>44</td>\n",
              "      <td>1233</td>\n",
              "      <td>1</td>\n",
              "    </tr>\n",
              "    <tr>\n",
              "      <th>1</th>\n",
              "      <td>2</td>\n",
              "      <td>F</td>\n",
              "      <td>Flight</td>\n",
              "      <td>4</td>\n",
              "      <td>5</td>\n",
              "      <td>216</td>\n",
              "      <td>2</td>\n",
              "      <td>low</td>\n",
              "      <td>M</td>\n",
              "      <td>59</td>\n",
              "      <td>3088</td>\n",
              "      <td>1</td>\n",
              "    </tr>\n",
              "    <tr>\n",
              "      <th>2</th>\n",
              "      <td>3</td>\n",
              "      <td>A</td>\n",
              "      <td>Flight</td>\n",
              "      <td>2</td>\n",
              "      <td>2</td>\n",
              "      <td>183</td>\n",
              "      <td>4</td>\n",
              "      <td>low</td>\n",
              "      <td>M</td>\n",
              "      <td>48</td>\n",
              "      <td>3374</td>\n",
              "      <td>1</td>\n",
              "    </tr>\n",
              "    <tr>\n",
              "      <th>3</th>\n",
              "      <td>4</td>\n",
              "      <td>B</td>\n",
              "      <td>Flight</td>\n",
              "      <td>3</td>\n",
              "      <td>3</td>\n",
              "      <td>176</td>\n",
              "      <td>4</td>\n",
              "      <td>medium</td>\n",
              "      <td>M</td>\n",
              "      <td>10</td>\n",
              "      <td>1177</td>\n",
              "      <td>1</td>\n",
              "    </tr>\n",
              "    <tr>\n",
              "      <th>4</th>\n",
              "      <td>5</td>\n",
              "      <td>C</td>\n",
              "      <td>Flight</td>\n",
              "      <td>2</td>\n",
              "      <td>2</td>\n",
              "      <td>184</td>\n",
              "      <td>3</td>\n",
              "      <td>medium</td>\n",
              "      <td>F</td>\n",
              "      <td>46</td>\n",
              "      <td>2484</td>\n",
              "      <td>1</td>\n",
              "    </tr>\n",
              "  </tbody>\n",
              "</table>\n",
              "</div>\n",
              "      <button class=\"colab-df-convert\" onclick=\"convertToInteractive('df-32f3a0cb-85a4-4fec-8954-f7a6e7ebe2fc')\"\n",
              "              title=\"Convert this dataframe to an interactive table.\"\n",
              "              style=\"display:none;\">\n",
              "        \n",
              "  <svg xmlns=\"http://www.w3.org/2000/svg\" height=\"24px\"viewBox=\"0 0 24 24\"\n",
              "       width=\"24px\">\n",
              "    <path d=\"M0 0h24v24H0V0z\" fill=\"none\"/>\n",
              "    <path d=\"M18.56 5.44l.94 2.06.94-2.06 2.06-.94-2.06-.94-.94-2.06-.94 2.06-2.06.94zm-11 1L8.5 8.5l.94-2.06 2.06-.94-2.06-.94L8.5 2.5l-.94 2.06-2.06.94zm10 10l.94 2.06.94-2.06 2.06-.94-2.06-.94-.94-2.06-.94 2.06-2.06.94z\"/><path d=\"M17.41 7.96l-1.37-1.37c-.4-.4-.92-.59-1.43-.59-.52 0-1.04.2-1.43.59L10.3 9.45l-7.72 7.72c-.78.78-.78 2.05 0 2.83L4 21.41c.39.39.9.59 1.41.59.51 0 1.02-.2 1.41-.59l7.78-7.78 2.81-2.81c.8-.78.8-2.07 0-2.86zM5.41 20L4 18.59l7.72-7.72 1.47 1.35L5.41 20z\"/>\n",
              "  </svg>\n",
              "      </button>\n",
              "      \n",
              "  <style>\n",
              "    .colab-df-container {\n",
              "      display:flex;\n",
              "      flex-wrap:wrap;\n",
              "      gap: 12px;\n",
              "    }\n",
              "\n",
              "    .colab-df-convert {\n",
              "      background-color: #E8F0FE;\n",
              "      border: none;\n",
              "      border-radius: 50%;\n",
              "      cursor: pointer;\n",
              "      display: none;\n",
              "      fill: #1967D2;\n",
              "      height: 32px;\n",
              "      padding: 0 0 0 0;\n",
              "      width: 32px;\n",
              "    }\n",
              "\n",
              "    .colab-df-convert:hover {\n",
              "      background-color: #E2EBFA;\n",
              "      box-shadow: 0px 1px 2px rgba(60, 64, 67, 0.3), 0px 1px 3px 1px rgba(60, 64, 67, 0.15);\n",
              "      fill: #174EA6;\n",
              "    }\n",
              "\n",
              "    [theme=dark] .colab-df-convert {\n",
              "      background-color: #3B4455;\n",
              "      fill: #D2E3FC;\n",
              "    }\n",
              "\n",
              "    [theme=dark] .colab-df-convert:hover {\n",
              "      background-color: #434B5C;\n",
              "      box-shadow: 0px 1px 3px 1px rgba(0, 0, 0, 0.15);\n",
              "      filter: drop-shadow(0px 1px 2px rgba(0, 0, 0, 0.3));\n",
              "      fill: #FFFFFF;\n",
              "    }\n",
              "  </style>\n",
              "\n",
              "      <script>\n",
              "        const buttonEl =\n",
              "          document.querySelector('#df-32f3a0cb-85a4-4fec-8954-f7a6e7ebe2fc button.colab-df-convert');\n",
              "        buttonEl.style.display =\n",
              "          google.colab.kernel.accessAllowed ? 'block' : 'none';\n",
              "\n",
              "        async function convertToInteractive(key) {\n",
              "          const element = document.querySelector('#df-32f3a0cb-85a4-4fec-8954-f7a6e7ebe2fc');\n",
              "          const dataTable =\n",
              "            await google.colab.kernel.invokeFunction('convertToInteractive',\n",
              "                                                     [key], {});\n",
              "          if (!dataTable) return;\n",
              "\n",
              "          const docLinkHtml = 'Like what you see? Visit the ' +\n",
              "            '<a target=\"_blank\" href=https://colab.research.google.com/notebooks/data_table.ipynb>data table notebook</a>'\n",
              "            + ' to learn more about interactive tables.';\n",
              "          element.innerHTML = '';\n",
              "          dataTable['output_type'] = 'display_data';\n",
              "          await google.colab.output.renderOutput(dataTable, element);\n",
              "          const docLink = document.createElement('div');\n",
              "          docLink.innerHTML = docLinkHtml;\n",
              "          element.appendChild(docLink);\n",
              "        }\n",
              "      </script>\n",
              "    </div>\n",
              "  </div>\n",
              "  "
            ]
          },
          "metadata": {},
          "execution_count": 108
        }
      ]
    },
    {
      "cell_type": "markdown",
      "source": [
        "Data Cleaning "
      ],
      "metadata": {
        "id": "aZBy0ce7PWKX"
      }
    },
    {
      "cell_type": "code",
      "source": [
        "# Checking for duplicates \n",
        "\n",
        "df.duplicated().sum()"
      ],
      "metadata": {
        "colab": {
          "base_uri": "https://localhost:8080/"
        },
        "id": "OLVaUnHpPbYL",
        "outputId": "f5755d41-b8b2-4a1b-bc74-bbd39e5513b8"
      },
      "execution_count": 109,
      "outputs": [
        {
          "output_type": "execute_result",
          "data": {
            "text/plain": [
              "0"
            ]
          },
          "metadata": {},
          "execution_count": 109
        }
      ]
    },
    {
      "cell_type": "markdown",
      "source": [
        "No duplicates found "
      ],
      "metadata": {
        "id": "QfCsvHPtToCr"
      }
    },
    {
      "cell_type": "code",
      "source": [
        "# Checking data types \n",
        "\n",
        "df.isna().sum()"
      ],
      "metadata": {
        "colab": {
          "base_uri": "https://localhost:8080/"
        },
        "id": "WrXqgcDNP1J7",
        "outputId": "205b938a-ef14-4edb-e46e-b0a3c84fe9c1"
      },
      "execution_count": 110,
      "outputs": [
        {
          "output_type": "execute_result",
          "data": {
            "text/plain": [
              "ID                     0\n",
              "Warehouse_block        0\n",
              "Mode_of_Shipment       0\n",
              "Customer_care_calls    0\n",
              "Customer_rating        0\n",
              "Cost_of_the_Product    0\n",
              "Prior_purchases        0\n",
              "Product_importance     0\n",
              "Gender                 0\n",
              "Discount_offered       0\n",
              "Weight_in_gms          0\n",
              "Reached.on.Time_Y.N    0\n",
              "dtype: int64"
            ]
          },
          "metadata": {},
          "execution_count": 110
        }
      ]
    },
    {
      "cell_type": "markdown",
      "source": [
        "No Missing values "
      ],
      "metadata": {
        "id": "Sy5zYElWTtJi"
      }
    },
    {
      "cell_type": "markdown",
      "source": [
        "The unnecessary column is 'ID'. It has been dropped. "
      ],
      "metadata": {
        "id": "qk4alFiWSZ-x"
      }
    },
    {
      "cell_type": "code",
      "source": [
        "# Deleting unnecessary columns\n",
        "df = df.drop(columns=['ID'])\n",
        "df"
      ],
      "metadata": {
        "colab": {
          "base_uri": "https://localhost:8080/",
          "height": 488
        },
        "id": "foJUpNseP6Ir",
        "outputId": "d83732fb-c6f1-4750-edb3-31c73fdd7be9"
      },
      "execution_count": 111,
      "outputs": [
        {
          "output_type": "execute_result",
          "data": {
            "text/plain": [
              "      Warehouse_block Mode_of_Shipment  Customer_care_calls  Customer_rating  \\\n",
              "0                   D           Flight                    4                2   \n",
              "1                   F           Flight                    4                5   \n",
              "2                   A           Flight                    2                2   \n",
              "3                   B           Flight                    3                3   \n",
              "4                   C           Flight                    2                2   \n",
              "...               ...              ...                  ...              ...   \n",
              "10994               A             Ship                    4                1   \n",
              "10995               B             Ship                    4                1   \n",
              "10996               C             Ship                    5                4   \n",
              "10997               F             Ship                    5                2   \n",
              "10998               D             Ship                    2                5   \n",
              "\n",
              "       Cost_of_the_Product  Prior_purchases Product_importance Gender  \\\n",
              "0                      177                3                low      F   \n",
              "1                      216                2                low      M   \n",
              "2                      183                4                low      M   \n",
              "3                      176                4             medium      M   \n",
              "4                      184                3             medium      F   \n",
              "...                    ...              ...                ...    ...   \n",
              "10994                  252                5             medium      F   \n",
              "10995                  232                5             medium      F   \n",
              "10996                  242                5                low      F   \n",
              "10997                  223                6             medium      M   \n",
              "10998                  155                5                low      F   \n",
              "\n",
              "       Discount_offered  Weight_in_gms  Reached.on.Time_Y.N  \n",
              "0                    44           1233                    1  \n",
              "1                    59           3088                    1  \n",
              "2                    48           3374                    1  \n",
              "3                    10           1177                    1  \n",
              "4                    46           2484                    1  \n",
              "...                 ...            ...                  ...  \n",
              "10994                 1           1538                    1  \n",
              "10995                 6           1247                    0  \n",
              "10996                 4           1155                    0  \n",
              "10997                 2           1210                    0  \n",
              "10998                 6           1639                    0  \n",
              "\n",
              "[10999 rows x 11 columns]"
            ],
            "text/html": [
              "\n",
              "  <div id=\"df-a9a4142b-883c-4332-b970-919d7d092a4b\">\n",
              "    <div class=\"colab-df-container\">\n",
              "      <div>\n",
              "<style scoped>\n",
              "    .dataframe tbody tr th:only-of-type {\n",
              "        vertical-align: middle;\n",
              "    }\n",
              "\n",
              "    .dataframe tbody tr th {\n",
              "        vertical-align: top;\n",
              "    }\n",
              "\n",
              "    .dataframe thead th {\n",
              "        text-align: right;\n",
              "    }\n",
              "</style>\n",
              "<table border=\"1\" class=\"dataframe\">\n",
              "  <thead>\n",
              "    <tr style=\"text-align: right;\">\n",
              "      <th></th>\n",
              "      <th>Warehouse_block</th>\n",
              "      <th>Mode_of_Shipment</th>\n",
              "      <th>Customer_care_calls</th>\n",
              "      <th>Customer_rating</th>\n",
              "      <th>Cost_of_the_Product</th>\n",
              "      <th>Prior_purchases</th>\n",
              "      <th>Product_importance</th>\n",
              "      <th>Gender</th>\n",
              "      <th>Discount_offered</th>\n",
              "      <th>Weight_in_gms</th>\n",
              "      <th>Reached.on.Time_Y.N</th>\n",
              "    </tr>\n",
              "  </thead>\n",
              "  <tbody>\n",
              "    <tr>\n",
              "      <th>0</th>\n",
              "      <td>D</td>\n",
              "      <td>Flight</td>\n",
              "      <td>4</td>\n",
              "      <td>2</td>\n",
              "      <td>177</td>\n",
              "      <td>3</td>\n",
              "      <td>low</td>\n",
              "      <td>F</td>\n",
              "      <td>44</td>\n",
              "      <td>1233</td>\n",
              "      <td>1</td>\n",
              "    </tr>\n",
              "    <tr>\n",
              "      <th>1</th>\n",
              "      <td>F</td>\n",
              "      <td>Flight</td>\n",
              "      <td>4</td>\n",
              "      <td>5</td>\n",
              "      <td>216</td>\n",
              "      <td>2</td>\n",
              "      <td>low</td>\n",
              "      <td>M</td>\n",
              "      <td>59</td>\n",
              "      <td>3088</td>\n",
              "      <td>1</td>\n",
              "    </tr>\n",
              "    <tr>\n",
              "      <th>2</th>\n",
              "      <td>A</td>\n",
              "      <td>Flight</td>\n",
              "      <td>2</td>\n",
              "      <td>2</td>\n",
              "      <td>183</td>\n",
              "      <td>4</td>\n",
              "      <td>low</td>\n",
              "      <td>M</td>\n",
              "      <td>48</td>\n",
              "      <td>3374</td>\n",
              "      <td>1</td>\n",
              "    </tr>\n",
              "    <tr>\n",
              "      <th>3</th>\n",
              "      <td>B</td>\n",
              "      <td>Flight</td>\n",
              "      <td>3</td>\n",
              "      <td>3</td>\n",
              "      <td>176</td>\n",
              "      <td>4</td>\n",
              "      <td>medium</td>\n",
              "      <td>M</td>\n",
              "      <td>10</td>\n",
              "      <td>1177</td>\n",
              "      <td>1</td>\n",
              "    </tr>\n",
              "    <tr>\n",
              "      <th>4</th>\n",
              "      <td>C</td>\n",
              "      <td>Flight</td>\n",
              "      <td>2</td>\n",
              "      <td>2</td>\n",
              "      <td>184</td>\n",
              "      <td>3</td>\n",
              "      <td>medium</td>\n",
              "      <td>F</td>\n",
              "      <td>46</td>\n",
              "      <td>2484</td>\n",
              "      <td>1</td>\n",
              "    </tr>\n",
              "    <tr>\n",
              "      <th>...</th>\n",
              "      <td>...</td>\n",
              "      <td>...</td>\n",
              "      <td>...</td>\n",
              "      <td>...</td>\n",
              "      <td>...</td>\n",
              "      <td>...</td>\n",
              "      <td>...</td>\n",
              "      <td>...</td>\n",
              "      <td>...</td>\n",
              "      <td>...</td>\n",
              "      <td>...</td>\n",
              "    </tr>\n",
              "    <tr>\n",
              "      <th>10994</th>\n",
              "      <td>A</td>\n",
              "      <td>Ship</td>\n",
              "      <td>4</td>\n",
              "      <td>1</td>\n",
              "      <td>252</td>\n",
              "      <td>5</td>\n",
              "      <td>medium</td>\n",
              "      <td>F</td>\n",
              "      <td>1</td>\n",
              "      <td>1538</td>\n",
              "      <td>1</td>\n",
              "    </tr>\n",
              "    <tr>\n",
              "      <th>10995</th>\n",
              "      <td>B</td>\n",
              "      <td>Ship</td>\n",
              "      <td>4</td>\n",
              "      <td>1</td>\n",
              "      <td>232</td>\n",
              "      <td>5</td>\n",
              "      <td>medium</td>\n",
              "      <td>F</td>\n",
              "      <td>6</td>\n",
              "      <td>1247</td>\n",
              "      <td>0</td>\n",
              "    </tr>\n",
              "    <tr>\n",
              "      <th>10996</th>\n",
              "      <td>C</td>\n",
              "      <td>Ship</td>\n",
              "      <td>5</td>\n",
              "      <td>4</td>\n",
              "      <td>242</td>\n",
              "      <td>5</td>\n",
              "      <td>low</td>\n",
              "      <td>F</td>\n",
              "      <td>4</td>\n",
              "      <td>1155</td>\n",
              "      <td>0</td>\n",
              "    </tr>\n",
              "    <tr>\n",
              "      <th>10997</th>\n",
              "      <td>F</td>\n",
              "      <td>Ship</td>\n",
              "      <td>5</td>\n",
              "      <td>2</td>\n",
              "      <td>223</td>\n",
              "      <td>6</td>\n",
              "      <td>medium</td>\n",
              "      <td>M</td>\n",
              "      <td>2</td>\n",
              "      <td>1210</td>\n",
              "      <td>0</td>\n",
              "    </tr>\n",
              "    <tr>\n",
              "      <th>10998</th>\n",
              "      <td>D</td>\n",
              "      <td>Ship</td>\n",
              "      <td>2</td>\n",
              "      <td>5</td>\n",
              "      <td>155</td>\n",
              "      <td>5</td>\n",
              "      <td>low</td>\n",
              "      <td>F</td>\n",
              "      <td>6</td>\n",
              "      <td>1639</td>\n",
              "      <td>0</td>\n",
              "    </tr>\n",
              "  </tbody>\n",
              "</table>\n",
              "<p>10999 rows × 11 columns</p>\n",
              "</div>\n",
              "      <button class=\"colab-df-convert\" onclick=\"convertToInteractive('df-a9a4142b-883c-4332-b970-919d7d092a4b')\"\n",
              "              title=\"Convert this dataframe to an interactive table.\"\n",
              "              style=\"display:none;\">\n",
              "        \n",
              "  <svg xmlns=\"http://www.w3.org/2000/svg\" height=\"24px\"viewBox=\"0 0 24 24\"\n",
              "       width=\"24px\">\n",
              "    <path d=\"M0 0h24v24H0V0z\" fill=\"none\"/>\n",
              "    <path d=\"M18.56 5.44l.94 2.06.94-2.06 2.06-.94-2.06-.94-.94-2.06-.94 2.06-2.06.94zm-11 1L8.5 8.5l.94-2.06 2.06-.94-2.06-.94L8.5 2.5l-.94 2.06-2.06.94zm10 10l.94 2.06.94-2.06 2.06-.94-2.06-.94-.94-2.06-.94 2.06-2.06.94z\"/><path d=\"M17.41 7.96l-1.37-1.37c-.4-.4-.92-.59-1.43-.59-.52 0-1.04.2-1.43.59L10.3 9.45l-7.72 7.72c-.78.78-.78 2.05 0 2.83L4 21.41c.39.39.9.59 1.41.59.51 0 1.02-.2 1.41-.59l7.78-7.78 2.81-2.81c.8-.78.8-2.07 0-2.86zM5.41 20L4 18.59l7.72-7.72 1.47 1.35L5.41 20z\"/>\n",
              "  </svg>\n",
              "      </button>\n",
              "      \n",
              "  <style>\n",
              "    .colab-df-container {\n",
              "      display:flex;\n",
              "      flex-wrap:wrap;\n",
              "      gap: 12px;\n",
              "    }\n",
              "\n",
              "    .colab-df-convert {\n",
              "      background-color: #E8F0FE;\n",
              "      border: none;\n",
              "      border-radius: 50%;\n",
              "      cursor: pointer;\n",
              "      display: none;\n",
              "      fill: #1967D2;\n",
              "      height: 32px;\n",
              "      padding: 0 0 0 0;\n",
              "      width: 32px;\n",
              "    }\n",
              "\n",
              "    .colab-df-convert:hover {\n",
              "      background-color: #E2EBFA;\n",
              "      box-shadow: 0px 1px 2px rgba(60, 64, 67, 0.3), 0px 1px 3px 1px rgba(60, 64, 67, 0.15);\n",
              "      fill: #174EA6;\n",
              "    }\n",
              "\n",
              "    [theme=dark] .colab-df-convert {\n",
              "      background-color: #3B4455;\n",
              "      fill: #D2E3FC;\n",
              "    }\n",
              "\n",
              "    [theme=dark] .colab-df-convert:hover {\n",
              "      background-color: #434B5C;\n",
              "      box-shadow: 0px 1px 3px 1px rgba(0, 0, 0, 0.15);\n",
              "      filter: drop-shadow(0px 1px 2px rgba(0, 0, 0, 0.3));\n",
              "      fill: #FFFFFF;\n",
              "    }\n",
              "  </style>\n",
              "\n",
              "      <script>\n",
              "        const buttonEl =\n",
              "          document.querySelector('#df-a9a4142b-883c-4332-b970-919d7d092a4b button.colab-df-convert');\n",
              "        buttonEl.style.display =\n",
              "          google.colab.kernel.accessAllowed ? 'block' : 'none';\n",
              "\n",
              "        async function convertToInteractive(key) {\n",
              "          const element = document.querySelector('#df-a9a4142b-883c-4332-b970-919d7d092a4b');\n",
              "          const dataTable =\n",
              "            await google.colab.kernel.invokeFunction('convertToInteractive',\n",
              "                                                     [key], {});\n",
              "          if (!dataTable) return;\n",
              "\n",
              "          const docLinkHtml = 'Like what you see? Visit the ' +\n",
              "            '<a target=\"_blank\" href=https://colab.research.google.com/notebooks/data_table.ipynb>data table notebook</a>'\n",
              "            + ' to learn more about interactive tables.';\n",
              "          element.innerHTML = '';\n",
              "          dataTable['output_type'] = 'display_data';\n",
              "          await google.colab.output.renderOutput(dataTable, element);\n",
              "          const docLink = document.createElement('div');\n",
              "          docLink.innerHTML = docLinkHtml;\n",
              "          element.appendChild(docLink);\n",
              "        }\n",
              "      </script>\n",
              "    </div>\n",
              "  </div>\n",
              "  "
            ]
          },
          "metadata": {},
          "execution_count": 111
        }
      ]
    },
    {
      "cell_type": "code",
      "source": [
        ""
      ],
      "metadata": {
        "id": "atfTTnyHnXnz"
      },
      "execution_count": 111,
      "outputs": []
    },
    {
      "cell_type": "code",
      "source": [
        "# create a dtype filter to be used to count their values \n",
        "\n",
        "dtypes = df.dtypes\n",
        "header_columns = dtypes[dtypes=='object'].index\n",
        "header_columns\n",
        "\n",
        "for all in header_columns:\n",
        "  print(f'- column= {all}')\n",
        "  print(df[all].value_counts(dropna=False))\n",
        "  print('\\n\\n')"
      ],
      "metadata": {
        "colab": {
          "base_uri": "https://localhost:8080/"
        },
        "id": "uIf4Uk0oTWo4",
        "outputId": "bbac2dcb-c3f0-452c-8142-831006e6a812"
      },
      "execution_count": 112,
      "outputs": [
        {
          "output_type": "stream",
          "name": "stdout",
          "text": [
            "- column= Warehouse_block\n",
            "F    3666\n",
            "D    1834\n",
            "A    1833\n",
            "B    1833\n",
            "C    1833\n",
            "Name: Warehouse_block, dtype: int64\n",
            "\n",
            "\n",
            "\n",
            "- column= Mode_of_Shipment\n",
            "Ship      7462\n",
            "Flight    1777\n",
            "Road      1760\n",
            "Name: Mode_of_Shipment, dtype: int64\n",
            "\n",
            "\n",
            "\n",
            "- column= Product_importance\n",
            "low       5297\n",
            "medium    4754\n",
            "high       948\n",
            "Name: Product_importance, dtype: int64\n",
            "\n",
            "\n",
            "\n",
            "- column= Gender\n",
            "F    5545\n",
            "M    5454\n",
            "Name: Gender, dtype: int64\n",
            "\n",
            "\n",
            "\n"
          ]
        }
      ]
    },
    {
      "cell_type": "code",
      "source": [
        "# Convert the string names of the classes to numeric values\n",
        "# assign Iris_setosa=0, Iris-virginica=1, and Iris-versicolor=2\n",
        "\n",
        "df['Warehouse_block'] = df['Warehouse_block'].replace({'A':0, 'B': 1, 'C':2, 'D':3, 'F':4})\n",
        "df['Mode_of_Shipment'] = df['Mode_of_Shipment'].replace({'Ship':0, 'Flight': 1, 'Road':2})\n",
        "df['Product_importance'] = df['Product_importance'].replace({'low':0, 'medium': 1, 'high':2})\n",
        "df['Gender'] = df['Gender'].replace({'F':0, 'M': 1})"
      ],
      "metadata": {
        "id": "NFoF8XLIcwfx"
      },
      "execution_count": 113,
      "outputs": []
    },
    {
      "cell_type": "code",
      "source": [
        "# Checking dataset \n",
        "df.info()"
      ],
      "metadata": {
        "colab": {
          "base_uri": "https://localhost:8080/"
        },
        "id": "GwcelahxD-DC",
        "outputId": "79935f39-ccc5-4c9a-b0c0-6d96306c4c27"
      },
      "execution_count": 114,
      "outputs": [
        {
          "output_type": "stream",
          "name": "stdout",
          "text": [
            "<class 'pandas.core.frame.DataFrame'>\n",
            "RangeIndex: 10999 entries, 0 to 10998\n",
            "Data columns (total 11 columns):\n",
            " #   Column               Non-Null Count  Dtype\n",
            "---  ------               --------------  -----\n",
            " 0   Warehouse_block      10999 non-null  int64\n",
            " 1   Mode_of_Shipment     10999 non-null  int64\n",
            " 2   Customer_care_calls  10999 non-null  int64\n",
            " 3   Customer_rating      10999 non-null  int64\n",
            " 4   Cost_of_the_Product  10999 non-null  int64\n",
            " 5   Prior_purchases      10999 non-null  int64\n",
            " 6   Product_importance   10999 non-null  int64\n",
            " 7   Gender               10999 non-null  int64\n",
            " 8   Discount_offered     10999 non-null  int64\n",
            " 9   Weight_in_gms        10999 non-null  int64\n",
            " 10  Reached.on.Time_Y.N  10999 non-null  int64\n",
            "dtypes: int64(11)\n",
            "memory usage: 945.4 KB\n"
          ]
        }
      ]
    },
    {
      "cell_type": "code",
      "source": [
        "df.describe()"
      ],
      "metadata": {
        "id": "VcqNnjz8EBs6",
        "outputId": "4fcfddf9-b6b6-4db3-d18a-f1df7f720216",
        "colab": {
          "base_uri": "https://localhost:8080/",
          "height": 364
        }
      },
      "execution_count": 115,
      "outputs": [
        {
          "output_type": "execute_result",
          "data": {
            "text/plain": [
              "       Warehouse_block  Mode_of_Shipment  Customer_care_calls  \\\n",
              "count     10999.000000      10999.000000         10999.000000   \n",
              "mean          2.333394          0.481589             4.054459   \n",
              "std           1.490726          0.754813             1.141490   \n",
              "min           0.000000          0.000000             2.000000   \n",
              "25%           1.000000          0.000000             3.000000   \n",
              "50%           3.000000          0.000000             4.000000   \n",
              "75%           4.000000          1.000000             5.000000   \n",
              "max           4.000000          2.000000             7.000000   \n",
              "\n",
              "       Customer_rating  Cost_of_the_Product  Prior_purchases  \\\n",
              "count     10999.000000         10999.000000     10999.000000   \n",
              "mean          2.990545           210.196836         3.567597   \n",
              "std           1.413603            48.063272         1.522860   \n",
              "min           1.000000            96.000000         2.000000   \n",
              "25%           2.000000           169.000000         3.000000   \n",
              "50%           3.000000           214.000000         3.000000   \n",
              "75%           4.000000           251.000000         4.000000   \n",
              "max           5.000000           310.000000        10.000000   \n",
              "\n",
              "       Product_importance        Gender  Discount_offered  Weight_in_gms  \\\n",
              "count        10999.000000  10999.000000      10999.000000   10999.000000   \n",
              "mean             0.604600      0.495863         13.373216    3634.016729   \n",
              "std              0.641464      0.500006         16.205527    1635.377251   \n",
              "min              0.000000      0.000000          1.000000    1001.000000   \n",
              "25%              0.000000      0.000000          4.000000    1839.500000   \n",
              "50%              1.000000      0.000000          7.000000    4149.000000   \n",
              "75%              1.000000      1.000000         10.000000    5050.000000   \n",
              "max              2.000000      1.000000         65.000000    7846.000000   \n",
              "\n",
              "       Reached.on.Time_Y.N  \n",
              "count         10999.000000  \n",
              "mean              0.596691  \n",
              "std               0.490584  \n",
              "min               0.000000  \n",
              "25%               0.000000  \n",
              "50%               1.000000  \n",
              "75%               1.000000  \n",
              "max               1.000000  "
            ],
            "text/html": [
              "\n",
              "  <div id=\"df-be3699c0-8d64-45c6-be35-9bfcc6a3d584\">\n",
              "    <div class=\"colab-df-container\">\n",
              "      <div>\n",
              "<style scoped>\n",
              "    .dataframe tbody tr th:only-of-type {\n",
              "        vertical-align: middle;\n",
              "    }\n",
              "\n",
              "    .dataframe tbody tr th {\n",
              "        vertical-align: top;\n",
              "    }\n",
              "\n",
              "    .dataframe thead th {\n",
              "        text-align: right;\n",
              "    }\n",
              "</style>\n",
              "<table border=\"1\" class=\"dataframe\">\n",
              "  <thead>\n",
              "    <tr style=\"text-align: right;\">\n",
              "      <th></th>\n",
              "      <th>Warehouse_block</th>\n",
              "      <th>Mode_of_Shipment</th>\n",
              "      <th>Customer_care_calls</th>\n",
              "      <th>Customer_rating</th>\n",
              "      <th>Cost_of_the_Product</th>\n",
              "      <th>Prior_purchases</th>\n",
              "      <th>Product_importance</th>\n",
              "      <th>Gender</th>\n",
              "      <th>Discount_offered</th>\n",
              "      <th>Weight_in_gms</th>\n",
              "      <th>Reached.on.Time_Y.N</th>\n",
              "    </tr>\n",
              "  </thead>\n",
              "  <tbody>\n",
              "    <tr>\n",
              "      <th>count</th>\n",
              "      <td>10999.000000</td>\n",
              "      <td>10999.000000</td>\n",
              "      <td>10999.000000</td>\n",
              "      <td>10999.000000</td>\n",
              "      <td>10999.000000</td>\n",
              "      <td>10999.000000</td>\n",
              "      <td>10999.000000</td>\n",
              "      <td>10999.000000</td>\n",
              "      <td>10999.000000</td>\n",
              "      <td>10999.000000</td>\n",
              "      <td>10999.000000</td>\n",
              "    </tr>\n",
              "    <tr>\n",
              "      <th>mean</th>\n",
              "      <td>2.333394</td>\n",
              "      <td>0.481589</td>\n",
              "      <td>4.054459</td>\n",
              "      <td>2.990545</td>\n",
              "      <td>210.196836</td>\n",
              "      <td>3.567597</td>\n",
              "      <td>0.604600</td>\n",
              "      <td>0.495863</td>\n",
              "      <td>13.373216</td>\n",
              "      <td>3634.016729</td>\n",
              "      <td>0.596691</td>\n",
              "    </tr>\n",
              "    <tr>\n",
              "      <th>std</th>\n",
              "      <td>1.490726</td>\n",
              "      <td>0.754813</td>\n",
              "      <td>1.141490</td>\n",
              "      <td>1.413603</td>\n",
              "      <td>48.063272</td>\n",
              "      <td>1.522860</td>\n",
              "      <td>0.641464</td>\n",
              "      <td>0.500006</td>\n",
              "      <td>16.205527</td>\n",
              "      <td>1635.377251</td>\n",
              "      <td>0.490584</td>\n",
              "    </tr>\n",
              "    <tr>\n",
              "      <th>min</th>\n",
              "      <td>0.000000</td>\n",
              "      <td>0.000000</td>\n",
              "      <td>2.000000</td>\n",
              "      <td>1.000000</td>\n",
              "      <td>96.000000</td>\n",
              "      <td>2.000000</td>\n",
              "      <td>0.000000</td>\n",
              "      <td>0.000000</td>\n",
              "      <td>1.000000</td>\n",
              "      <td>1001.000000</td>\n",
              "      <td>0.000000</td>\n",
              "    </tr>\n",
              "    <tr>\n",
              "      <th>25%</th>\n",
              "      <td>1.000000</td>\n",
              "      <td>0.000000</td>\n",
              "      <td>3.000000</td>\n",
              "      <td>2.000000</td>\n",
              "      <td>169.000000</td>\n",
              "      <td>3.000000</td>\n",
              "      <td>0.000000</td>\n",
              "      <td>0.000000</td>\n",
              "      <td>4.000000</td>\n",
              "      <td>1839.500000</td>\n",
              "      <td>0.000000</td>\n",
              "    </tr>\n",
              "    <tr>\n",
              "      <th>50%</th>\n",
              "      <td>3.000000</td>\n",
              "      <td>0.000000</td>\n",
              "      <td>4.000000</td>\n",
              "      <td>3.000000</td>\n",
              "      <td>214.000000</td>\n",
              "      <td>3.000000</td>\n",
              "      <td>1.000000</td>\n",
              "      <td>0.000000</td>\n",
              "      <td>7.000000</td>\n",
              "      <td>4149.000000</td>\n",
              "      <td>1.000000</td>\n",
              "    </tr>\n",
              "    <tr>\n",
              "      <th>75%</th>\n",
              "      <td>4.000000</td>\n",
              "      <td>1.000000</td>\n",
              "      <td>5.000000</td>\n",
              "      <td>4.000000</td>\n",
              "      <td>251.000000</td>\n",
              "      <td>4.000000</td>\n",
              "      <td>1.000000</td>\n",
              "      <td>1.000000</td>\n",
              "      <td>10.000000</td>\n",
              "      <td>5050.000000</td>\n",
              "      <td>1.000000</td>\n",
              "    </tr>\n",
              "    <tr>\n",
              "      <th>max</th>\n",
              "      <td>4.000000</td>\n",
              "      <td>2.000000</td>\n",
              "      <td>7.000000</td>\n",
              "      <td>5.000000</td>\n",
              "      <td>310.000000</td>\n",
              "      <td>10.000000</td>\n",
              "      <td>2.000000</td>\n",
              "      <td>1.000000</td>\n",
              "      <td>65.000000</td>\n",
              "      <td>7846.000000</td>\n",
              "      <td>1.000000</td>\n",
              "    </tr>\n",
              "  </tbody>\n",
              "</table>\n",
              "</div>\n",
              "      <button class=\"colab-df-convert\" onclick=\"convertToInteractive('df-be3699c0-8d64-45c6-be35-9bfcc6a3d584')\"\n",
              "              title=\"Convert this dataframe to an interactive table.\"\n",
              "              style=\"display:none;\">\n",
              "        \n",
              "  <svg xmlns=\"http://www.w3.org/2000/svg\" height=\"24px\"viewBox=\"0 0 24 24\"\n",
              "       width=\"24px\">\n",
              "    <path d=\"M0 0h24v24H0V0z\" fill=\"none\"/>\n",
              "    <path d=\"M18.56 5.44l.94 2.06.94-2.06 2.06-.94-2.06-.94-.94-2.06-.94 2.06-2.06.94zm-11 1L8.5 8.5l.94-2.06 2.06-.94-2.06-.94L8.5 2.5l-.94 2.06-2.06.94zm10 10l.94 2.06.94-2.06 2.06-.94-2.06-.94-.94-2.06-.94 2.06-2.06.94z\"/><path d=\"M17.41 7.96l-1.37-1.37c-.4-.4-.92-.59-1.43-.59-.52 0-1.04.2-1.43.59L10.3 9.45l-7.72 7.72c-.78.78-.78 2.05 0 2.83L4 21.41c.39.39.9.59 1.41.59.51 0 1.02-.2 1.41-.59l7.78-7.78 2.81-2.81c.8-.78.8-2.07 0-2.86zM5.41 20L4 18.59l7.72-7.72 1.47 1.35L5.41 20z\"/>\n",
              "  </svg>\n",
              "      </button>\n",
              "      \n",
              "  <style>\n",
              "    .colab-df-container {\n",
              "      display:flex;\n",
              "      flex-wrap:wrap;\n",
              "      gap: 12px;\n",
              "    }\n",
              "\n",
              "    .colab-df-convert {\n",
              "      background-color: #E8F0FE;\n",
              "      border: none;\n",
              "      border-radius: 50%;\n",
              "      cursor: pointer;\n",
              "      display: none;\n",
              "      fill: #1967D2;\n",
              "      height: 32px;\n",
              "      padding: 0 0 0 0;\n",
              "      width: 32px;\n",
              "    }\n",
              "\n",
              "    .colab-df-convert:hover {\n",
              "      background-color: #E2EBFA;\n",
              "      box-shadow: 0px 1px 2px rgba(60, 64, 67, 0.3), 0px 1px 3px 1px rgba(60, 64, 67, 0.15);\n",
              "      fill: #174EA6;\n",
              "    }\n",
              "\n",
              "    [theme=dark] .colab-df-convert {\n",
              "      background-color: #3B4455;\n",
              "      fill: #D2E3FC;\n",
              "    }\n",
              "\n",
              "    [theme=dark] .colab-df-convert:hover {\n",
              "      background-color: #434B5C;\n",
              "      box-shadow: 0px 1px 3px 1px rgba(0, 0, 0, 0.15);\n",
              "      filter: drop-shadow(0px 1px 2px rgba(0, 0, 0, 0.3));\n",
              "      fill: #FFFFFF;\n",
              "    }\n",
              "  </style>\n",
              "\n",
              "      <script>\n",
              "        const buttonEl =\n",
              "          document.querySelector('#df-be3699c0-8d64-45c6-be35-9bfcc6a3d584 button.colab-df-convert');\n",
              "        buttonEl.style.display =\n",
              "          google.colab.kernel.accessAllowed ? 'block' : 'none';\n",
              "\n",
              "        async function convertToInteractive(key) {\n",
              "          const element = document.querySelector('#df-be3699c0-8d64-45c6-be35-9bfcc6a3d584');\n",
              "          const dataTable =\n",
              "            await google.colab.kernel.invokeFunction('convertToInteractive',\n",
              "                                                     [key], {});\n",
              "          if (!dataTable) return;\n",
              "\n",
              "          const docLinkHtml = 'Like what you see? Visit the ' +\n",
              "            '<a target=\"_blank\" href=https://colab.research.google.com/notebooks/data_table.ipynb>data table notebook</a>'\n",
              "            + ' to learn more about interactive tables.';\n",
              "          element.innerHTML = '';\n",
              "          dataTable['output_type'] = 'display_data';\n",
              "          await google.colab.output.renderOutput(dataTable, element);\n",
              "          const docLink = document.createElement('div');\n",
              "          docLink.innerHTML = docLinkHtml;\n",
              "          element.appendChild(docLink);\n",
              "        }\n",
              "      </script>\n",
              "    </div>\n",
              "  </div>\n",
              "  "
            ]
          },
          "metadata": {},
          "execution_count": 115
        }
      ]
    },
    {
      "cell_type": "code",
      "source": [
        "## Create X and y \n",
        "\n",
        "target = 'Reached.on.Time_Y.N'\n",
        "X = df.drop(columns=target)\n",
        "y = df[target]"
      ],
      "metadata": {
        "id": "rEdB2MSZMNtk"
      },
      "execution_count": 116,
      "outputs": []
    },
    {
      "cell_type": "code",
      "source": [
        "## train-test-split\n",
        "\n",
        "X_train, X_test, y_train, y_test = train_test_split(X, y, random_state=42)\n",
        "X_train.shape"
      ],
      "metadata": {
        "colab": {
          "base_uri": "https://localhost:8080/"
        },
        "id": "8HZ1p7XSMfTA",
        "outputId": "36cf442e-6ee6-4fcf-d66a-759a415de78c"
      },
      "execution_count": 117,
      "outputs": [
        {
          "output_type": "execute_result",
          "data": {
            "text/plain": [
              "(8249, 10)"
            ]
          },
          "metadata": {},
          "execution_count": 117
        }
      ]
    },
    {
      "cell_type": "markdown",
      "source": [
        "Feature Data Types\n",
        "\n",
        "Numeric Features: Warehouse_block, Mode_of_Shipment, Product_Importance, Discount_offered\n",
        "\n",
        "Nominal/Categorical Features: 8 Columns "
      ],
      "metadata": {
        "id": "Yb4K5uxiMx3j"
      }
    },
    {
      "cell_type": "markdown",
      "source": [
        "Preprocessor\n",
        "\n",
        "A. OneHotEncoder \n",
        "B. Scaler to scale different scales. \n",
        "\n",
        "* No Missing values "
      ],
      "metadata": {
        "id": "qetuWmCzQFew"
      }
    },
    {
      "cell_type": "code",
      "source": [
        "\n",
        "## Make a column selector for categories & test it \n",
        "\n",
        "cat_selector = make_column_selector(dtype_include='object')\n",
        "num_selector = make_column_selector(dtype_include='number')"
      ],
      "metadata": {
        "id": "gOn85_TXNCgB"
      },
      "execution_count": 118,
      "outputs": []
    },
    {
      "cell_type": "code",
      "source": [
        "## Instantiate OneHotEncoder and StandardScaler\n",
        "\n",
        "ohe_encoder = OneHotEncoder(sparse=False, handle_unknown='ignore')\n",
        "scaler = StandardScaler()\n",
        "\n",
        "## Create tuples of (transformer, selector) - ColumnTransformer\n",
        "\n",
        "cat_tuple = (ohe_encoder, cat_selector)\n",
        "num_tuple = (scaler, num_selector)"
      ],
      "metadata": {
        "id": "nf1MTUrpQ0RU"
      },
      "execution_count": 119,
      "outputs": []
    },
    {
      "cell_type": "code",
      "source": [
        "## ColumnTransformer\n",
        "\n",
        "preprocessor = make_column_transformer(cat_tuple, num_tuple)"
      ],
      "metadata": {
        "id": "uiBDlDfNQ7VU"
      },
      "execution_count": 120,
      "outputs": []
    },
    {
      "cell_type": "markdown",
      "source": [
        "Modeling"
      ],
      "metadata": {
        "id": "IR081OSqRSfY"
      }
    },
    {
      "cell_type": "code",
      "source": [
        "\n",
        "df['Reached.on.Time_Y.N'].value_counts(normalize = True)"
      ],
      "metadata": {
        "colab": {
          "base_uri": "https://localhost:8080/"
        },
        "id": "4nZSU1aEYX22",
        "outputId": "50199edd-a5b6-42a8-d0a4-907aa3f5790c"
      },
      "execution_count": 121,
      "outputs": [
        {
          "output_type": "execute_result",
          "data": {
            "text/plain": [
              "1    0.596691\n",
              "0    0.403309\n",
              "Name: Reached.on.Time_Y.N, dtype: float64"
            ]
          },
          "metadata": {},
          "execution_count": 121
        }
      ]
    },
    {
      "cell_type": "code",
      "source": [
        "# Arrange data into features matrix and target vector\n",
        "\n",
        "y = df['Reached.on.Time_Y.N']\n",
        "X = df.drop(columns = 'Reached.on.Time_Y.N')"
      ],
      "metadata": {
        "id": "t-XeujQoYdKC"
      },
      "execution_count": 122,
      "outputs": []
    },
    {
      "cell_type": "code",
      "source": [
        "# Train test Split(Model validation)\n",
        "\n",
        "X_train, X_test, y_train, y_test = train_test_split(X, y, random_state=42)"
      ],
      "metadata": {
        "id": "iSbvoyWxYpkh"
      },
      "execution_count": 123,
      "outputs": []
    },
    {
      "cell_type": "code",
      "source": [
        "# Decision Tree Classifier\n",
        "# Make the instances of the model \n",
        "# Tree depth is measured of how many splits it makes before coming to a prediction\n",
        "# There are also cases where the depth of field is not equal \n",
        "dec_tree = DecisionTreeClassifier(random_state=42, max_depth=2)\n",
        "\n",
        "# Checking for hyperparameters that seem tunable\n",
        "dec_tree.get_params()"
      ],
      "metadata": {
        "colab": {
          "base_uri": "https://localhost:8080/"
        },
        "id": "fhauK3uhYu97",
        "outputId": "2e6bf464-a058-4f90-c366-c6c8107322d2"
      },
      "execution_count": 124,
      "outputs": [
        {
          "output_type": "execute_result",
          "data": {
            "text/plain": [
              "{'ccp_alpha': 0.0,\n",
              " 'class_weight': None,\n",
              " 'criterion': 'gini',\n",
              " 'max_depth': 2,\n",
              " 'max_features': None,\n",
              " 'max_leaf_nodes': None,\n",
              " 'min_impurity_decrease': 0.0,\n",
              " 'min_samples_leaf': 1,\n",
              " 'min_samples_split': 2,\n",
              " 'min_weight_fraction_leaf': 0.0,\n",
              " 'random_state': 42,\n",
              " 'splitter': 'best'}"
            ]
          },
          "metadata": {},
          "execution_count": 124
        }
      ]
    },
    {
      "cell_type": "code",
      "source": [
        "# The model is learning the relationship between X & y\n",
        "\n",
        "dec_tree.fit(X_train, y_train)"
      ],
      "metadata": {
        "colab": {
          "base_uri": "https://localhost:8080/"
        },
        "id": "JsmndySDbApC",
        "outputId": "e35cd231-4678-444e-cc9d-784ceaa61205"
      },
      "execution_count": 125,
      "outputs": [
        {
          "output_type": "execute_result",
          "data": {
            "text/plain": [
              "DecisionTreeClassifier(max_depth=2, random_state=42)"
            ]
          },
          "metadata": {},
          "execution_count": 125
        }
      ]
    },
    {
      "cell_type": "code",
      "source": [
        "# predict the labels of new data (Reached on Time (Y/N))\n",
        "\n",
        "dec_tree.predict(X_test)"
      ],
      "metadata": {
        "colab": {
          "base_uri": "https://localhost:8080/"
        },
        "id": "XUpGF_w0fIUz",
        "outputId": "658c24d6-06a5-4881-fd39-a98ab192b406"
      },
      "execution_count": 126,
      "outputs": [
        {
          "output_type": "execute_result",
          "data": {
            "text/plain": [
              "array([1, 0, 1, ..., 1, 1, 0])"
            ]
          },
          "metadata": {},
          "execution_count": 126
        }
      ]
    },
    {
      "cell_type": "code",
      "source": [
        "#Evaluate the model \n",
        "#Calculate classification accuracy \n",
        "\n",
        "train_score = dec_tree.score(X_train, y_train)\n",
        "test_score = dec_tree.score(X_test, y_test)\n",
        "print(train_score)\n",
        "print(test_score)"
      ],
      "metadata": {
        "colab": {
          "base_uri": "https://localhost:8080/"
        },
        "id": "g8sY7Bu4fSAH",
        "outputId": "f677aa08-bca1-4471-f2f8-15bb0058ce4e"
      },
      "execution_count": 127,
      "outputs": [
        {
          "output_type": "stream",
          "name": "stdout",
          "text": [
            "0.6700206085586131\n",
            "0.6821818181818182\n"
          ]
        }
      ]
    },
    {
      "cell_type": "markdown",
      "source": [
        "Visualization \n",
        "\n",
        "Scatter Plot, Histogram, Bar Plot Seaborn, Boxplot"
      ],
      "metadata": {
        "id": "8dTkmPfohlDx"
      }
    },
    {
      "cell_type": "code",
      "source": [
        "df = pd.DataFrame(np.random.randn(100, 4), columns=['Warehouse_block', 'Mode_of_Shipment', 'Product_importance', 'Gender'])\n",
        "\n",
        "ax1 = df.plot(kind='scatter', x='Warehouse_block', y='Mode_of_Shipment', color='r')    \n",
        "ax2 = df.plot(kind='scatter', x='Product_importance', y='Gender', color='g', ax=ax1)    \n",
        "\n"
      ],
      "metadata": {
        "colab": {
          "base_uri": "https://localhost:8080/",
          "height": 280
        },
        "id": "oJlhpzLDlsD9",
        "outputId": "43065ea4-c74c-4752-d739-4e3e385606bc"
      },
      "execution_count": 128,
      "outputs": [
        {
          "output_type": "display_data",
          "data": {
            "text/plain": [
              "<Figure size 432x288 with 1 Axes>"
            ],
            "image/png": "[encoded data removed]"
          },
          "metadata": {
            "needs_background": "light"
          }
        }
      ]
    },
    {
      "cell_type": "code",
      "source": [
        "# Using a histogram to visualize Outcome \n",
        "\n",
        "sns.histplot(data=df,x='Product_importance')"
      ],
      "metadata": {
        "colab": {
          "base_uri": "https://localhost:8080/",
          "height": 301
        },
        "id": "A16UcKBPhnN4",
        "outputId": "65e88b79-479b-48f7-b07b-ef9954a7ea7f"
      },
      "execution_count": 129,
      "outputs": [
        {
          "output_type": "execute_result",
          "data": {
            "text/plain": [
              "<matplotlib.axes._subplots.AxesSubplot at 0x7f82c242b810>"
            ]
          },
          "metadata": {},
          "execution_count": 129
        },
        {
          "output_type": "display_data",
          "data": {
            "text/plain": [
              "<Figure size 432x288 with 1 Axes>"
            ],
            "image/png": "[encoded data removed]"
          },
          "metadata": {
            "needs_background": "light"
          }
        }
      ]
    },
    {
      "cell_type": "code",
      "source": [
        "# Boxplot\n",
        "\n",
        "df.boxplot(column='Product_importance')"
      ],
      "metadata": {
        "colab": {
          "base_uri": "https://localhost:8080/",
          "height": 288
        },
        "id": "e-F1aioaiEmD",
        "outputId": "ede70339-1fb5-40f4-b118-5d9b82227630"
      },
      "execution_count": 130,
      "outputs": [
        {
          "output_type": "execute_result",
          "data": {
            "text/plain": [
              "<matplotlib.axes._subplots.AxesSubplot at 0x7f82c28a7150>"
            ]
          },
          "metadata": {},
          "execution_count": 130
        },
        {
          "output_type": "display_data",
          "data": {
            "text/plain": [
              "<Figure size 432x288 with 1 Axes>"
            ],
            "image/png": "[encoded data removed]"
          },
          "metadata": {
            "needs_background": "light"
          }
        }
      ]
    },
    {
      "cell_type": "code",
      "source": [
        "# Barplot - Seaborn\n",
        "\n",
        "sns.barplot(data=df, x='Warehouse_block', y='Mode_of_Shipment')"
      ],
      "metadata": {
        "colab": {
          "base_uri": "https://localhost:8080/",
          "height": 298
        },
        "id": "iUCvcvU_iWyx",
        "outputId": "d42afe30-7517-42f1-9b1f-f9d2bcb7e32d"
      },
      "execution_count": 131,
      "outputs": [
        {
          "output_type": "execute_result",
          "data": {
            "text/plain": [
              "<matplotlib.axes._subplots.AxesSubplot at 0x7f82c2a2ff50>"
            ]
          },
          "metadata": {},
          "execution_count": 131
        },
        {
          "output_type": "display_data",
          "data": {
            "text/plain": [
              "<Figure size 432x288 with 1 Axes>"
            ],
            "image/png": "[encoded data removed]"
          },
          "metadata": {
            "needs_background": "light"
          }
        }
      ]
    },
    {
      "cell_type": "code",
      "source": [
        ""
      ],
      "metadata": {
        "id": "LGCn5e0SjE9i"
      },
      "execution_count": 131,
      "outputs": []
    }
  ]
}